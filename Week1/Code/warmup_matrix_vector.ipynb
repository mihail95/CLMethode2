{
 "cells": [
  {
   "cell_type": "markdown",
   "id": "74a75c6b",
   "metadata": {},
   "source": [
    "# Warm-Up: Rechnen mit Matrizen und Vektoren in Python"
   ]
  },
  {
   "cell_type": "markdown",
   "id": "e45169ae",
   "metadata": {},
   "source": [
    "## Aufgabe 1: Ohne externe Libraries zu lösen"
   ]
  },
  {
   "cell_type": "markdown",
   "id": "d1b67472",
   "metadata": {},
   "source": [
    "a) Berechnen Sie das Skalarprodukt von Vektor `v1 = [1 2 3 4 5]` und `v2 = [6 7 8 9 10]`"
   ]
  },
  {
   "cell_type": "code",
   "execution_count": 4,
   "id": "e265371a",
   "metadata": {},
   "outputs": [
    {
     "name": "stdout",
     "output_type": "stream",
     "text": [
      "130\n"
     ]
    }
   ],
   "source": [
    "#Lösung\n",
    "v1 = [1,2,3,4,5]\n",
    "v2 = [6,7,8,9,10]\n",
    "\n",
    "print(sum(map(lambda x,y: x*y,v1,v2)))"
   ]
  },
  {
   "cell_type": "markdown",
   "id": "3ba8859f",
   "metadata": {},
   "source": [
    "b) Multiplizieren Sie folgende Matrix `m` mit Vektor `v1`:\n",
    "    \n",
    "    [[ 1  2  3  4  5]\n",
    "    [ 6  7  8  9 10]]"
   ]
  },
  {
   "cell_type": "code",
   "execution_count": 5,
   "id": "e6c43cab",
   "metadata": {},
   "outputs": [
    {
     "name": "stdout",
     "output_type": "stream",
     "text": [
      "[55, 130]\n"
     ]
    }
   ],
   "source": [
    "#Lösung\n",
    "\n",
    "m = [[1,2,3,4,5],[6,7,8,9,10]]\n",
    "\n",
    "print([sum(map(lambda x,y: x*y,row,v1)) for row in m])"
   ]
  },
  {
   "cell_type": "markdown",
   "id": "36157e6a",
   "metadata": {},
   "source": [
    "## Aufgabe 2: Mit Library numpy zu lösen"
   ]
  },
  {
   "cell_type": "code",
   "execution_count": 2,
   "id": "145e05d1",
   "metadata": {},
   "outputs": [],
   "source": [
    "import numpy as np"
   ]
  },
  {
   "cell_type": "markdown",
   "id": "61ae9824",
   "metadata": {},
   "source": [
    "a) Lösen Sie Aufgabe 1a) mithilfe von numpy"
   ]
  },
  {
   "cell_type": "code",
   "execution_count": 6,
   "id": "50754bac",
   "metadata": {},
   "outputs": [
    {
     "name": "stdout",
     "output_type": "stream",
     "text": [
      "130\n"
     ]
    }
   ],
   "source": [
    "#Lösung\n",
    "npv1 = np.array(v1)\n",
    "npv2 = np.array(v2)\n",
    "\n",
    "print(np.dot(npv1, npv2))"
   ]
  },
  {
   "cell_type": "markdown",
   "id": "81582ef3",
   "metadata": {},
   "source": [
    "b) Lösen Sie Aufgabe 1b) mithilfe von numpy"
   ]
  },
  {
   "cell_type": "code",
   "execution_count": 7,
   "id": "0c03a243",
   "metadata": {},
   "outputs": [
    {
     "name": "stdout",
     "output_type": "stream",
     "text": [
      "[[ 55 130]]\n"
     ]
    }
   ],
   "source": [
    "#Lösung\n",
    "npm1 = np.matrix(m)\n",
    "\n",
    "print(npm1.dot(npv1))"
   ]
  },
  {
   "cell_type": "markdown",
   "id": "d6ea0be2",
   "metadata": {},
   "source": [
    "c) Erstellen Sie mithilfe von numpy-Funktionen folgende Matrizen, ohne zuvor manuell Listen anzulegen:\n",
    "\n",
    "    m1: [[0. 0. 0. 0. 0.]\n",
    "         [0. 0. 0. 0. 0.]\n",
    "         [0. 0. 0. 0. 0.]]\n",
    "\n",
    "    m2: [[1. 1. 1.]\n",
    "         [1. 1. 1.]\n",
    "         [1. 1. 1.]\n",
    "         [1. 1. 1.]\n",
    "         [1. 1. 1.]]\n",
    "\n",
    "    m3: [[ 1  2  3  4  5]\n",
    "        [ 6  7  8  9 10]]\n",
    "\n",
    "    m4: [[ 100  200]\n",
    "         [ 300  400]\n",
    "         [ 500  600]\n",
    "         [ 700  800]\n",
    "         [ 900 1000]]\n"
   ]
  },
  {
   "cell_type": "code",
   "execution_count": 19,
   "id": "85a84709",
   "metadata": {},
   "outputs": [
    {
     "name": "stdout",
     "output_type": "stream",
     "text": [
      "[[0. 0. 0. 0. 0.]\n",
      " [0. 0. 0. 0. 0.]\n",
      " [0. 0. 0. 0. 0.]]\n",
      "[[1. 1. 1.]\n",
      " [1. 1. 1.]\n",
      " [1. 1. 1.]\n",
      " [1. 1. 1.]\n",
      " [1. 1. 1.]]\n",
      "[[ 1  2  3  4  5]\n",
      " [ 6  7  8  9 10]]\n",
      "[[ 100  200]\n",
      " [ 300  400]\n",
      " [ 500  600]\n",
      " [ 700  800]\n",
      " [ 900 1000]]\n"
     ]
    }
   ],
   "source": [
    "#Lösung\n",
    "m1c = np.zeros((3,5))\n",
    "print(m1c)\n",
    "\n",
    "m2c = np.ones((5,3))\n",
    "print(m2c)\n",
    "\n",
    "m3c = np.arange(1, 11).reshape((2,5))\n",
    "print(m3c)\n",
    "\n",
    "m4c = np.arange(100, 1001, 100).reshape((5,2))\n",
    "print(m4c)"
   ]
  },
  {
   "cell_type": "markdown",
   "id": "3a4935de",
   "metadata": {},
   "source": [
    "d) Multiplizieren Sie Matrix `m3` mit `m4` und danach `m4` mit `m3`.\n",
    "Überlegen Sie jeweils vorab, wie viele Zeilen und Spalten das Ergebnis haben wird."
   ]
  },
  {
   "cell_type": "code",
   "execution_count": 7,
   "id": "8d093b7e",
   "metadata": {},
   "outputs": [],
   "source": [
    "#Lösung\n"
   ]
  },
  {
   "cell_type": "code",
   "execution_count": null,
   "id": "57ddec3c",
   "metadata": {},
   "outputs": [],
   "source": []
  },
  {
   "cell_type": "code",
   "execution_count": null,
   "id": "031e94fb",
   "metadata": {},
   "outputs": [],
   "source": []
  }
 ],
 "metadata": {
  "kernelspec": {
   "display_name": "Python 3",
   "language": "python",
   "name": "python3"
  },
  "language_info": {
   "codemirror_mode": {
    "name": "ipython",
    "version": 3
   },
   "file_extension": ".py",
   "mimetype": "text/x-python",
   "name": "python",
   "nbconvert_exporter": "python",
   "pygments_lexer": "ipython3",
   "version": "3.10.11"
  }
 },
 "nbformat": 4,
 "nbformat_minor": 5
}
